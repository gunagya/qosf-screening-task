{
 "cells": [
  {
   "cell_type": "code",
   "execution_count": 5,
   "metadata": {},
   "outputs": [],
   "source": [
    "#First, we'll need networkx and matplotlib to store and display graphs\n",
    "\n",
    "import networkx as nx\n",
    "import matplotlib.pyplot as plt"
   ]
  },
  {
   "cell_type": "code",
   "execution_count": 58,
   "metadata": {},
   "outputs": [
    {
     "data": {
      "image/png": "[encoded data removed]",
      "text/plain": [
       "<Figure size 432x288 with 1 Axes>"
      ]
     },
     "metadata": {},
     "output_type": "display_data"
    }
   ],
   "source": [
    "#Let us make a simple weighted graph of a complete graph with 3 nodes\n",
    "\n",
    "G = nx.Graph()\n",
    "set_edges = [(0,1,3), (0,2,4), (1,2,5)]\n",
    "G.add_weighted_edges_from(set_edges)\n",
    "nx.draw(G)"
   ]
  },
  {
   "cell_type": "code",
   "execution_count": 59,
   "metadata": {},
   "outputs": [
    {
     "data": {
      "text/plain": [
       "{(0, 1): Text(0.4553341870802483, 0.04723816704054695, '3'),\n",
       " (0, 2): Text(-0.23933279195537221, 0.45276183295945316, '4'),\n",
       " (1, 2): Text(-0.21600139512487557, -0.4999999999999999, '5')}"
      ]
     },
     "execution_count": 59,
     "metadata": {},
     "output_type": "execute_result"
    },
    {
     "data": {
      "image/png": "[encoded data removed]",
      "text/plain": [
       "<Figure size 432x288 with 1 Axes>"
      ]
     },
     "metadata": {},
     "output_type": "display_data"
    }
   ],
   "source": [
    "#Huh, where are the weights? Let's add them in\n",
    "\n",
    "pos=nx.spring_layout(G)\n",
    "nx.draw_networkx(G,pos)\n",
    "labels = nx.get_edge_attributes(G,'weight')\n",
    "nx.draw_networkx_edge_labels(G,pos,edge_labels=labels)"
   ]
  },
  {
   "cell_type": "code",
   "execution_count": 10,
   "metadata": {},
   "outputs": [],
   "source": [
    "#Much better. Now let's move on to the quantum computing part, for that we'll need cirq\n",
    "\n",
    "import cirq"
   ]
  },
  {
   "cell_type": "code",
   "execution_count": 88,
   "metadata": {},
   "outputs": [
    {
     "name": "stdout",
     "output_type": "stream",
     "text": [
      "0: ───H───\n",
      "\n",
      "1: ───H───\n",
      "\n",
      "2: ───H───\n"
     ]
    }
   ],
   "source": [
    "#We define a circuit with as many qubits as nodes in the graph\n",
    "#All qubits are initially prepared as |+> states\n",
    "\n",
    "circuit = cirq.Circuit()\n",
    "\n",
    "qubits = cirq.LineQubit.range(len(G))\n",
    "\n",
    "circuit.append(cirq.H(q) for q in qubits)\n",
    "print(circuit)"
   ]
  },
  {
   "cell_type": "code",
   "execution_count": 77,
   "metadata": {},
   "outputs": [
    {
     "name": "stdout",
     "output_type": "stream",
     "text": [
      "0: ───H───M('result')───\n",
      "          │\n",
      "1: ───H───M─────────────\n",
      "          │\n",
      "2: ───H───M─────────────\n",
      "Counter({3: 139, 7: 139, 1: 131, 5: 122, 6: 119, 4: 119, 2: 117, 0: 114})\n"
     ]
    }
   ],
   "source": [
    "#Let's just ensure that this circuit is working as expected\n",
    "\n",
    "test_circuit = circuit.copy()\n",
    "test_circuit.append(cirq.measure(*qubits, key='result'))\n",
    "print(test_circuit)\n",
    "\n",
    "s = cirq.Simulator()\n",
    "samples=s.run(test_circuit, repetitions=1000)\n",
    "print(samples.histogram(key='result'))"
   ]
  },
  {
   "cell_type": "code",
   "execution_count": 104,
   "metadata": {},
   "outputs": [],
   "source": [
    "#Perfect, now let's perform the QAOA\n",
    "\n",
    "# Defines the cost unitary\n",
    "\n",
    "def cost_unitary(qubits, gamma):\n",
    "    for i in set_edges:\n",
    "        #i[2] is to include weight of edge into exponent\n",
    "        yield cirq.ZZPowGate(exponent=-1*i[2]*gamma/math.pi).on(qubits[i[0]], qubits[i[1]])\n",
    "        \n",
    "        \n",
    "\n",
    "# Defines the mixer unitary\n",
    "\n",
    "def mixer_unitary(qubits, alpha):\n",
    "    for i in range(0, len(qubits)):\n",
    "        yield cirq.XPowGate(exponent=-1*alpha/math.pi).on(qubits[i])"
   ]
  },
  {
   "cell_type": "code",
   "execution_count": 101,
   "metadata": {},
   "outputs": [],
   "source": [
    "def create_circuit(gamma, alpha):\n",
    "\n",
    "    circuit = cirq.Circuit()\n",
    "\n",
    "    qubits = cirq.LineQubit.range(len(G))\n",
    "\n",
    "    circuit.append(cirq.H(q) for q in qubits)\n",
    "    \n",
    "    for i in range(0, depth):\n",
    "        circuit.append(cost_unitary(qubits, gamma[i]))\n",
    "        circuit.append(mixer_unitary(qubits, alpha[i]))\n",
    "    \n",
    "    circuit.append(cirq.measure(*qubits, key='result'))\n",
    "\n",
    "    simulator = cirq.Simulator()\n",
    "    results = simulator.run(circuit, repetitions=1024)\n",
    "    \n",
    "    results = str(results)[7:].split(\", \")\n",
    "    new_res = []\n",
    "    for i in range(0, 1024):\n",
    "        hold = []\n",
    "        for j in range(0, len(G)):\n",
    "            hold.append(int(results[j][i]))\n",
    "        new_res.append(hold)\n",
    "\n",
    "    return new_res"
   ]
  },
  {
   "cell_type": "code",
   "execution_count": 112,
   "metadata": {},
   "outputs": [],
   "source": [
    "def print_final_circuit(gamma, alpha):\n",
    "    circuit = cirq.Circuit()\n",
    "\n",
    "    qubits = cirq.LineQubit.range(len(G))\n",
    "\n",
    "    circuit.append(cirq.H(q) for q in qubits)\n",
    "    \n",
    "    for i in range(0, depth):\n",
    "        circuit.append(cost_unitary(qubits, gamma[i]))\n",
    "        circuit.append(mixer_unitary(qubits, alpha[i]))\n",
    "    \n",
    "    circuit.append(cirq.measure(*qubits, key='result'))\n",
    "    print(circuit)"
   ]
  },
  {
   "cell_type": "code",
   "execution_count": 102,
   "metadata": {},
   "outputs": [],
   "source": [
    "# Defines the cost function\n",
    "\n",
    "def cost_function(params):\n",
    "\n",
    "    av = create_circuit(params[:depth], params[depth:])\n",
    "    total_cost = 0\n",
    "    for i in range(0, len(av)):\n",
    "        for j in set_edges:\n",
    "            total_cost += 0.5*j[2]*( ( (1 - 2*av[i][j[0]]) * (1 - 2*av[i][j[1]]) ) - 1)\n",
    "    total_cost = float(total_cost)/1024\n",
    "\n",
    "    print(\"Cost: \"+str(total_cost))\n",
    "\n",
    "    return total_cost"
   ]
  },
  {
   "cell_type": "code",
   "execution_count": 113,
   "metadata": {},
   "outputs": [],
   "source": [
    "# Defines the optimization method\n",
    "\n",
    "import random\n",
    "from scipy.optimize import minimize\n",
    "import math\n",
    "\n",
    "depth=4\n",
    "\n",
    "def run_QAOA():\n",
    "    init =[float(random.randint(-314, 314))/float(100) for i in range(0, 2*depth)]\n",
    "    out = minimize(cost_function, x0=init, method=\"COBYLA\", options={'maxiter':100})\n",
    "    print(out)\n",
    "\n",
    "    optimal_params = out['x']\n",
    "    f = create_circuit(optimal_params[:depth], optimal_params[depth:])\n",
    "    print_final_circuit(optimal_params[:depth], optimal_params[depth:])\n",
    "    # Creates visualization of the optimal state\n",
    "\n",
    "    nums = []\n",
    "    freq = []\n",
    "\n",
    "    for i in range(0, len(f)):\n",
    "        number = 0\n",
    "        for j in range(0, len(f[i])):\n",
    "            number += 2**(len(f[i])-j-1)*f[i][j]\n",
    "        if (number in nums):\n",
    "            freq[nums.index(number)] = freq[nums.index(number)] + 1\n",
    "        else:\n",
    "            nums.append(number)\n",
    "            freq.append(1)\n",
    "\n",
    "    freq = [s/sum(freq) for s in freq]\n",
    "\n",
    "    print(nums)\n",
    "    print(freq)\n",
    "\n",
    "    x = range(0, 2**len(G))\n",
    "    y = []\n",
    "    for i in range(0, len(x)):\n",
    "        if (i in nums):\n",
    "            y.append(freq[nums.index(i)])\n",
    "        else:\n",
    "            y.append(0)\n",
    "\n",
    "    plt.bar(x, y)\n",
    "    plt.show()"
   ]
  },
  {
   "cell_type": "code",
   "execution_count": 114,
   "metadata": {},
   "outputs": [
    {
     "name": "stdout",
     "output_type": "stream",
     "text": [
      "Cost: -3.455078125\n",
      "Cost: -5.75\n",
      "Cost: -6.9345703125\n",
      "Cost: -5.228515625\n",
      "Cost: -8.0556640625\n",
      "Cost: -7.7568359375\n",
      "Cost: -8.67578125\n",
      "Cost: -8.7509765625\n",
      "Cost: -6.59375\n",
      "Cost: -8.3203125\n",
      "Cost: -7.0576171875\n",
      "Cost: -6.607421875\n",
      "Cost: -4.94140625\n",
      "Cost: -6.9912109375\n",
      "Cost: -8.4951171875\n",
      "Cost: -5.5673828125\n",
      "Cost: -8.4091796875\n",
      "Cost: -6.966796875\n",
      "Cost: -7.6181640625\n",
      "Cost: -8.6884765625\n",
      "Cost: -7.9541015625\n",
      "Cost: -8.078125\n",
      "Cost: -8.125\n",
      "Cost: -8.4375\n",
      "Cost: -7.212890625\n",
      "Cost: -8.6943359375\n",
      "Cost: -8.693359375\n",
      "Cost: -8.58203125\n",
      "Cost: -8.6982421875\n",
      "Cost: -8.51171875\n",
      "Cost: -8.533203125\n",
      "Cost: -8.685546875\n",
      "Cost: -8.6484375\n",
      "Cost: -8.7001953125\n",
      "Cost: -8.7119140625\n",
      "Cost: -8.6767578125\n",
      "Cost: -8.724609375\n",
      "Cost: -8.73046875\n",
      "Cost: -8.7509765625\n",
      "Cost: -8.7158203125\n",
      "Cost: -8.69921875\n",
      "Cost: -8.724609375\n",
      "Cost: -8.7197265625\n",
      "Cost: -8.697265625\n",
      "Cost: -8.6943359375\n",
      "Cost: -8.71484375\n",
      "Cost: -8.705078125\n",
      "Cost: -8.720703125\n",
      "Cost: -8.693359375\n",
      "Cost: -8.6982421875\n",
      "Cost: -8.705078125\n",
      "Cost: -8.703125\n",
      "Cost: -8.6611328125\n",
      "Cost: -8.7001953125\n",
      "Cost: -8.7265625\n",
      "Cost: -8.69140625\n",
      "Cost: -8.7119140625\n",
      "Cost: -8.669921875\n",
      "Cost: -8.7119140625\n",
      "Cost: -8.7138671875\n",
      "Cost: -8.7041015625\n",
      "Cost: -8.69921875\n",
      "Cost: -8.6708984375\n",
      "Cost: -8.7158203125\n",
      "Cost: -8.712890625\n",
      "Cost: -8.7021484375\n",
      "Cost: -8.6865234375\n",
      "Cost: -8.748046875\n",
      "Cost: -8.71875\n",
      "Cost: -8.6767578125\n",
      "     fun: -8.6767578125\n",
      "   maxcv: 0.0\n",
      " message: 'Optimization terminated successfully.'\n",
      "    nfev: 70\n",
      "  status: 1\n",
      " success: True\n",
      "       x: array([ 3.21000601, -1.01000336,  0.26995053,  2.16005126,  1.31002164,\n",
      "       -0.31005006,  2.8899981 ,  1.24995641])\n",
      "0: ───H───ZZ─────────ZZ──────────X^(-5/12)───────────────ZZ─────────ZZ──────────X^0.099───────────────ZZ──────────ZZ──────────X^-0.92──────────────ZZ───────────ZZ─────────X^-0.398───────────────M('result')───\n",
      "          │          │                                   │          │                                 │           │                                │            │                                 │\n",
      "1: ───H───ZZ^0.935───┼───────────ZZ──────────X^(-5/12)───ZZ^0.964───┼───────────ZZ──────────X^0.099───ZZ^-0.258───┼───────────ZZ─────────X^-0.92───ZZ^(-1/16)───┼──────────ZZ──────────X^-0.398───M─────────────\n",
      "                     │           │                                  │           │                                 │           │                                 │          │                      │\n",
      "2: ───H──────────────ZZ^-0.087───ZZ^0.891────X^(-5/12)──────────────ZZ^(-5/7)───ZZ^-0.393───X^0.099───────────────ZZ^-0.344───ZZ^-0.43───X^-0.92────────────────ZZ^-0.75───ZZ^(9/16)───X^-0.398───M─────────────\n",
      "[6, 1, 3, 5, 4, 2, 0]\n",
      "[0.37109375, 0.4013671875, 0.0517578125, 0.0673828125, 0.0439453125, 0.0634765625, 0.0009765625]\n"
     ]
    },
    {
     "data": {
      "image/png": "[encoded data removed]",
      "text/plain": [
       "<Figure size 432x288 with 1 Axes>"
      ]
     },
     "metadata": {
      "needs_background": "light"
     },
     "output_type": "display_data"
    }
   ],
   "source": [
    "run_QAOA()"
   ]
  },
  {
   "cell_type": "markdown",
   "metadata": {},
   "source": [
    "According to the QAOA, the states 1 |001> and |110> are optimal, which is indeed true.\n",
    "\n",
    "This combination produces the maxcut of 9."
   ]
  },
  {
   "cell_type": "code",
   "execution_count": null,
   "metadata": {},
   "outputs": [],
   "source": []
  }
 ],
 "metadata": {
  "kernelspec": {
   "display_name": "Python 3",
   "language": "python",
   "name": "python3"
  },
  "language_info": {
   "codemirror_mode": {
    "name": "ipython",
    "version": 3
   },
   "file_extension": ".py",
   "mimetype": "text/x-python",
   "name": "python",
   "nbconvert_exporter": "python",
   "pygments_lexer": "ipython3",
   "version": "3.7.4"
  }
 },
 "nbformat": 4,
 "nbformat_minor": 2
}
